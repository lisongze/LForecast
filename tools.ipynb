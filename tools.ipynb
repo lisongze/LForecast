{
 "metadata": {
  "name": "",
  "signature": "sha256:80af7496c647ca9f849c01b7287bdf04e65eb8ad283458b78362651f3aca8be7"
 },
 "nbformat": 3,
 "nbformat_minor": 0,
 "worksheets": [
  {
   "cells": [
    {
     "cell_type": "code",
     "collapsed": false,
     "input": [
      "import scipy\n",
      "from scipy.special import comb, perm\n",
      "\n",
      "def cal_bet_money(red_ball_count, blue_ball_count):\n",
      "    if red_ball_count < 6:\n",
      "        raise ValueError('Wrong red ball count !!!')\n",
      "    if blue_ball_count < 1:\n",
      "        raise ValueError('Wrong blue ball count !!!')\n",
      "    single_shot_money = 2\n",
      "    cs = comb(red_ball_count, 6) * blue_ball_count\n",
      "    money = single_shot_money * cs\n",
      "    return money"
     ],
     "language": "python",
     "metadata": {},
     "outputs": [],
     "prompt_number": 4
    },
    {
     "cell_type": "code",
     "collapsed": false,
     "input": [
      "r = 9\n",
      "b = 2\n",
      "cal_bet_money(r, b)"
     ],
     "language": "python",
     "metadata": {},
     "outputs": [
      {
       "metadata": {},
       "output_type": "pyout",
       "prompt_number": 7,
       "text": [
        "336.0"
       ]
      }
     ],
     "prompt_number": 7
    }
   ],
   "metadata": {}
  }
 ]
}
