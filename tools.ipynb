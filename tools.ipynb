{
 "metadata": {
  "name": "",
  "signature": "sha256:ebcee443b45cc3042af73b37e8d08bd4d656e88187fc632a5261f2ac67c5f362"
 },
 "nbformat": 3,
 "nbformat_minor": 0,
 "worksheets": [
  {
   "cells": [
    {
     "cell_type": "code",
     "collapsed": false,
     "input": [
      "import scipy\n",
      "from scipy.special import comb, perm\n",
      "\n",
      "def cal_bet_money(red_ball_count, blue_ball_count):\n",
      "    if red_ball_count < 6:\n",
      "        raise ValueError('Wrong red ball count !!!')\n",
      "    if blue_ball_count < 1:\n",
      "        raise ValueError('Wrong blue ball count !!!')\n",
      "    single_shot_money = 2\n",
      "    cs = comb(red_ball_count, 6) * blue_ball_count\n",
      "    money = single_shot_money * cs\n",
      "    return money"
     ],
     "language": "python",
     "metadata": {},
     "outputs": []
    }
   ],
   "metadata": {}
  }
 ]
}